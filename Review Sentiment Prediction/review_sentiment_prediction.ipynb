{
 "cells": [
  {
   "cell_type": "markdown",
   "metadata": {},
   "source": [
    "# Problem Statement\n",
    "\n",
    "<b style=\"background:#333; color:#fff; padding:4px; border-radius: 5px;\">Predict The Sentiment Of Product Reviews</b>\n",
    "\n",
    "### Overview\n",
    "<p style=\"width:70%; text-align:justify;\">The business works and depends on reviews.<br>\n",
    "You have been hired by this marketing company to assess and predict the reviews that they have gathered on their products. Based on the review text provided, you need to predict whether the feedback has a positive or negative sentiment.<br>\n",
    "This will help guide decision-making for the firm, as they will want to deep dive into products and improve the feedback— thereby boosting the marketing firm’s reputation.</p>\n",
    "\n",
    "### Data Description\n",
    "<b>TRAIN.csv</b><br>\n",
    "It contains the training data with review details as described below-\n",
    "\n",
    "|**Variable**   |**Description**|\n",
    "|:--------------|:------------|\n",
    "|**id**       |Unique identifier for each tuple.|\n",
    "|**text**     |Tokenized text content of the review.|\n",
    "|**category** |The reviews have been categorized into two categories representing positive and negative reviews.<br>0 represents positive reviews and 1 represents negative reviews.|\n",
    "\n",
    "<b>TEST.csv</b><br>\n",
    "It has review details for which the participants are to submit whether `category` would be positive or negative.\n",
    "\n",
    "### Evaluation Metric\n",
    "<p> We will be using <b>Precision_Score(Macro)</b> as the Evaluation Metric to judge our models.</p>"
   ]
  },
  {
   "cell_type": "markdown",
   "metadata": {},
   "source": [
    "<h1>__________________________________________________________</h1>\n",
    "\n",
    "## 1. Import Libraries"
   ]
  },
  {
   "cell_type": "code",
   "execution_count": 43,
   "metadata": {},
   "outputs": [],
   "source": [
    "import pandas as pd\n",
    "import numpy as np\n",
    "import matplotlib.pyplot as plt\n",
    "%matplotlib inline\n",
    "\n",
    "from sklearn.metrics import accuracy_score, precision_score, recall_score\n",
    "from sklearn.model_selection import train_test_split\n",
    "\n",
    "\n",
    "from sklearn.feature_extraction.text import CountVectorizer\n",
    "from imblearn.over_sampling import ADASYN, SMOTE\n",
    "\n",
    "from sklearn import svm\n",
    "from catboost import CatBoostClassifier\n",
    "import xgboost as xgb\n",
    "from sklearn.tree import DecisionTreeClassifier\n",
    "from sklearn.ensemble import RandomForestClassifier"
   ]
  },
  {
   "cell_type": "markdown",
   "metadata": {},
   "source": [
    "<h1>__________________________________________________________</h1>\n",
    "\n",
    "## 2. Load Train and Test Datasets"
   ]
  },
  {
   "cell_type": "code",
   "execution_count": 44,
   "metadata": {},
   "outputs": [
    {
     "data": {
      "text/plain": [
       "((2598, 3), (866, 2))"
      ]
     },
     "execution_count": 44,
     "metadata": {},
     "output_type": "execute_result"
    }
   ],
   "source": [
    "train_df = pd.read_csv(\"data/TRAIN.csv\")\n",
    "test_df = pd.read_csv(\"data/TEST.csv\")\n",
    "train_df.shape, test_df.shape"
   ]
  },
  {
   "cell_type": "markdown",
   "metadata": {},
   "source": [
    "<h1>__________________________________________________________</h1>\n",
    "\n",
    "## 3. EDA"
   ]
  },
  {
   "cell_type": "code",
   "execution_count": 45,
   "metadata": {},
   "outputs": [
    {
     "data": {
      "text/html": [
       "<div>\n",
       "<style scoped>\n",
       "    .dataframe tbody tr th:only-of-type {\n",
       "        vertical-align: middle;\n",
       "    }\n",
       "\n",
       "    .dataframe tbody tr th {\n",
       "        vertical-align: top;\n",
       "    }\n",
       "\n",
       "    .dataframe thead th {\n",
       "        text-align: right;\n",
       "    }\n",
       "</style>\n",
       "<table border=\"1\" class=\"dataframe\">\n",
       "  <thead>\n",
       "    <tr style=\"text-align: right;\">\n",
       "      <th></th>\n",
       "      <th>text</th>\n",
       "      <th>category</th>\n",
       "    </tr>\n",
       "  </thead>\n",
       "  <tbody>\n",
       "    <tr>\n",
       "      <th>0</th>\n",
       "      <td>1047 6700 4178 2912 183 6700</td>\n",
       "      <td>0</td>\n",
       "    </tr>\n",
       "    <tr>\n",
       "      <th>1</th>\n",
       "      <td>4035 4563 1994 154 5373 4956 6035 4393 4017 40...</td>\n",
       "      <td>1</td>\n",
       "    </tr>\n",
       "    <tr>\n",
       "      <th>2</th>\n",
       "      <td>5035 7685 3139 4407 254 584 6589 8518 3078</td>\n",
       "      <td>0</td>\n",
       "    </tr>\n",
       "    <tr>\n",
       "      <th>3</th>\n",
       "      <td>1047 2540 2578 6700 2242 230 3771 4676 5881 64...</td>\n",
       "      <td>0</td>\n",
       "    </tr>\n",
       "    <tr>\n",
       "      <th>4</th>\n",
       "      <td>7685 5868 237 6794 3078</td>\n",
       "      <td>0</td>\n",
       "    </tr>\n",
       "  </tbody>\n",
       "</table>\n",
       "</div>"
      ],
      "text/plain": [
       "                                                text  category\n",
       "0                       1047 6700 4178 2912 183 6700         0\n",
       "1  4035 4563 1994 154 5373 4956 6035 4393 4017 40...         1\n",
       "2         5035 7685 3139 4407 254 584 6589 8518 3078         0\n",
       "3  1047 2540 2578 6700 2242 230 3771 4676 5881 64...         0\n",
       "4                            7685 5868 237 6794 3078         0"
      ]
     },
     "execution_count": 45,
     "metadata": {},
     "output_type": "execute_result"
    }
   ],
   "source": [
    "# Dropping the 'id' column as its not useful for our predictive models\n",
    "new_train = train_df.drop(['id'], axis=1)\n",
    "new_test = test_df.drop(['id'], axis=1)\n",
    "new_train.head()"
   ]
  },
  {
   "cell_type": "code",
   "execution_count": 46,
   "metadata": {},
   "outputs": [
    {
     "name": "stdout",
     "output_type": "stream",
     "text": [
      "text        0\n",
      "category    0\n",
      "dtype: int64\n",
      "id      0\n",
      "text    0\n",
      "dtype: int64\n"
     ]
    }
   ],
   "source": [
    "# Checking For NUll Values\n",
    "print(new_train.isnull().sum())\n",
    "print(test_df.isnull().sum())"
   ]
  },
  {
   "cell_type": "code",
   "execution_count": 47,
   "metadata": {},
   "outputs": [
    {
     "name": "stdout",
     "output_type": "stream",
     "text": [
      "Positive Reviews :  2512 - 97.0 %\n",
      "Negative Reviews :  86 - 3.0 %\n"
     ]
    }
   ],
   "source": [
    "# No. of total positive and negative reviews in the data\n",
    "print('Positive Reviews : ', sum(new_train[\"category\"]==0), '-', round(sum(new_train[\"category\"]==0)/ len(new_train), 2)*100, '%')\n",
    "print('Negative Reviews : ', sum(new_train[\"category\"]==1), '-', round(sum(new_train[\"category\"]==1)/ len(new_train), 2)*100, '%')"
   ]
  },
  {
   "cell_type": "code",
   "execution_count": 48,
   "metadata": {},
   "outputs": [
    {
     "data": {
      "image/png": "[encoded data removed]",
      "text/plain": [
       "<Figure size 504x432 with 1 Axes>"
      ]
     },
     "metadata": {
      "needs_background": "light"
     },
     "output_type": "display_data"
    }
   ],
   "source": [
    "plt.figure(figsize=(7, 6))\n",
    "train_df['category'].value_counts().plot(kind='bar')\n",
    "plt.title(\"Distribution of Positive(0) and Negative(1) Reviews\")\n",
    "plt.show()"
   ]
  },
  {
   "cell_type": "markdown",
   "metadata": {},
   "source": [
    "As we can notice from the above results, the products are getting 97% positive reviews and only 3% negative reviews.<br>\n",
    "We can easily predict with our intuition, that a review would be positive but not accurate enough.\n",
    "\n",
    "<h3>To predict if the review is negative or positive accurately, we need the data to be balanced enough to predict the correct category of the review.</h3>\n",
    "\n",
    "To optimize this imbalanced data, we will perform over-sampling using **ADASYN(Adaptive Synthetic Sampling Approach)**"
   ]
  },
  {
   "cell_type": "markdown",
   "metadata": {},
   "source": [
    "<h1>__________________________________________________________</h1>\n",
    "\n",
    "## 4. Vectorizing the categorical variable\n",
    "\n",
    "<p>As we know, all the ML models are good with numbers. So, we will convert the categorical column 'text' using CountVectorizer.<br>\n",
    "It will convert the collection of text tokens in 'text' column, and return a matrix of the counts of occurences of each token in the Series.</p>"
   ]
  },
  {
   "cell_type": "code",
   "execution_count": 49,
   "metadata": {},
   "outputs": [],
   "source": [
    "# import the CountVectorizer library\n",
    "vectorizer = CountVectorizer(binary=True)"
   ]
  },
  {
   "cell_type": "code",
   "execution_count": 50,
   "metadata": {},
   "outputs": [
    {
     "data": {
      "text/plain": [
       "CountVectorizer(binary=True)"
      ]
     },
     "execution_count": 50,
     "metadata": {},
     "output_type": "execute_result"
    }
   ],
   "source": [
    "# learning vocabulary dictionary from the given tokens for reviews in 'text'\n",
    "\n",
    "# Train Data\n",
    "vectorizer.fit(list(new_train['text']))\n"
   ]
  },
  {
   "cell_type": "code",
   "execution_count": 51,
   "metadata": {},
   "outputs": [],
   "source": [
    "# transform 'text' series to a matrix of the counts of each token.\n",
    "train_vec = vectorizer.transform(new_train['text'])\n",
    "\n",
    "test_vec = vectorizer.transform(new_train['text'])"
   ]
  },
  {
   "cell_type": "code",
   "execution_count": 52,
   "metadata": {},
   "outputs": [
    {
     "data": {
      "text/plain": [
       "((2598, 7354), (2598, 7354))"
      ]
     },
     "execution_count": 52,
     "metadata": {},
     "output_type": "execute_result"
    }
   ],
   "source": [
    "train_vec.shape, test_vec.shape"
   ]
  },
  {
   "cell_type": "markdown",
   "metadata": {},
   "source": [
    "<h1>__________________________________________________________</h1>\n",
    "\n",
    "## 5. Train Test Split"
   ]
  },
  {
   "cell_type": "code",
   "execution_count": 53,
   "metadata": {},
   "outputs": [],
   "source": [
    "# extract the target label from the train data\n",
    "y = new_train.category.values\n",
    "\n",
    "# using 70% for the training and 30% for the test\n",
    "x_train, x_test, y_train, y_test = train_test_split(train_vec, y, \n",
    "                                                    stratify=y, \n",
    "                                                    random_state=1, \n",
    "                                                    test_size=0.3)"
   ]
  },
  {
   "cell_type": "code",
   "execution_count": 54,
   "metadata": {},
   "outputs": [
    {
     "data": {
      "text/plain": [
       "((1818, 7354), (780, 7354), (1818,), (780,))"
      ]
     },
     "execution_count": 54,
     "metadata": {},
     "output_type": "execute_result"
    }
   ],
   "source": [
    "x_train.shape, x_test.shape, y_train.shape, y_test.shape"
   ]
  },
  {
   "cell_type": "code",
   "execution_count": 55,
   "metadata": {},
   "outputs": [
    {
     "data": {
      "text/plain": [
       "<866x7354 sparse matrix of type '<class 'numpy.int64'>'\n",
       "\twith 12922 stored elements in Compressed Sparse Row format>"
      ]
     },
     "execution_count": 55,
     "metadata": {},
     "output_type": "execute_result"
    }
   ],
   "source": [
    "# Indexing the vectorized test data with the original index of Test Data\n",
    "test_vec = test_vec[test_df.index]\n",
    "test_vec"
   ]
  },
  {
   "cell_type": "markdown",
   "metadata": {},
   "source": [
    "<h1>__________________________________________________________</h1>\n",
    "\n",
    "## 6. Over-Sampling\n",
    "<p>We are using ADASYN as over-sampling techniques to balance our dataset</p>"
   ]
  },
  {
   "cell_type": "code",
   "execution_count": 56,
   "metadata": {},
   "outputs": [],
   "source": [
    "ada = ADASYN(random_state=130)\n",
    "x_train_ada, y_train_ada = ada.fit_resample(x_train, y_train)"
   ]
  },
  {
   "cell_type": "code",
   "execution_count": 57,
   "metadata": {
    "scrolled": true
   },
   "outputs": [
    {
     "data": {
      "text/plain": [
       "((3510, 7354), (3510,))"
      ]
     },
     "execution_count": 57,
     "metadata": {},
     "output_type": "execute_result"
    }
   ],
   "source": [
    "x_train_ada.shape, y_train_ada.shape"
   ]
  },
  {
   "cell_type": "markdown",
   "metadata": {},
   "source": [
    "<h1>__________________________________________________________</h1>\n",
    "\n",
    "## 7. Model Building"
   ]
  },
  {
   "cell_type": "markdown",
   "metadata": {},
   "source": [
    "### 7.1 Using Support Vector Classifier"
   ]
  },
  {
   "cell_type": "code",
   "execution_count": 58,
   "metadata": {},
   "outputs": [
    {
     "name": "stdout",
     "output_type": "stream",
     "text": [
      "SVM Accuracy score :  94.87 %\n",
      "Recall_score(Macro) :  49.07 %\n",
      "Precision_Score(Macro) :  48.3 %\n"
     ]
    }
   ],
   "source": [
    "from sklearn import svm\n",
    "# classify using support vector classifier\n",
    "sv = svm.SVC(probability=True)\n",
    "\n",
    "# fit the SVC model based on the given training data\n",
    "prob = sv.fit(x_train_ada, y_train_ada)\n",
    "\n",
    "# perform classification and prediction on samples in x_test\n",
    "y_pred_svm = sv.predict(x_test)\n",
    "\n",
    "print(\"SVM Accuracy score : \", round(accuracy_score(y_test, y_pred_svm)* 100, 2), '%')\n",
    "print(\"Recall_score(Macro) : \", round(recall_score(y_test, y_pred_svm, average='macro')*100, 2), '%')\n",
    "print(\"Precision_Score(Macro) : \", round(precision_score(y_test, y_pred_svm, average='macro', zero_division=1)*100, 2), '%')"
   ]
  },
  {
   "cell_type": "markdown",
   "metadata": {},
   "source": [
    "### 7.2 Using Cat Boost Classifier"
   ]
  },
  {
   "cell_type": "code",
   "execution_count": 59,
   "metadata": {},
   "outputs": [
    {
     "name": "stdout",
     "output_type": "stream",
     "text": [
      "Learning rate set to 0.5\n",
      "0:\tlearn: 0.7357513\ttotal: 109ms\tremaining: 2.06s\n",
      "1:\tlearn: 0.8168083\ttotal: 213ms\tremaining: 1.92s\n",
      "2:\tlearn: 0.8523524\ttotal: 311ms\tremaining: 1.76s\n",
      "3:\tlearn: 0.8852544\ttotal: 409ms\tremaining: 1.64s\n",
      "4:\tlearn: 0.8795732\ttotal: 502ms\tremaining: 1.51s\n",
      "5:\tlearn: 0.8876923\ttotal: 597ms\tremaining: 1.39s\n",
      "6:\tlearn: 0.8974625\ttotal: 708ms\tremaining: 1.31s\n",
      "7:\tlearn: 0.9030240\ttotal: 809ms\tremaining: 1.21s\n",
      "8:\tlearn: 0.9063808\ttotal: 908ms\tremaining: 1.11s\n",
      "9:\tlearn: 0.9092816\ttotal: 1s\tremaining: 1s\n",
      "10:\tlearn: 0.9139108\ttotal: 1.09s\tremaining: 896ms\n",
      "11:\tlearn: 0.9182920\ttotal: 1.2s\tremaining: 797ms\n",
      "12:\tlearn: 0.9178515\ttotal: 1.3s\tremaining: 699ms\n",
      "13:\tlearn: 0.9188192\ttotal: 1.41s\tremaining: 604ms\n",
      "14:\tlearn: 0.9341189\ttotal: 1.52s\tremaining: 507ms\n",
      "15:\tlearn: 0.9331193\ttotal: 1.63s\tremaining: 408ms\n",
      "16:\tlearn: 0.9331193\ttotal: 1.73s\tremaining: 305ms\n",
      "17:\tlearn: 0.9326203\ttotal: 1.84s\tremaining: 205ms\n",
      "18:\tlearn: 0.9336188\ttotal: 1.94s\tremaining: 102ms\n",
      "19:\tlearn: 0.9321219\ttotal: 2.06s\tremaining: 0us\n",
      "CatBoost Accuracy score :  88.08 %\n",
      "Recall_score(Macro) :  73.41 %\n",
      "Precision_Score(Macro) :  56.93 %\n"
     ]
    }
   ],
   "source": [
    "# classify using CatBoost Classifier\n",
    "cbr = CatBoostClassifier(eval_metric='Precision', iterations=20)\n",
    "\n",
    "# fit the SVC model based on the given training data\n",
    "prob1 = cbr.fit(x_train_ada, y_train_ada)\n",
    "\n",
    "# perform classification and prediction on samples in x_test\n",
    "y_pred_cat = cbr.predict(x_test)\n",
    "\n",
    "print(\"CatBoost Accuracy score : \", round(accuracy_score(y_test, y_pred_cat)* 100, 2), '%')\n",
    "print(\"Recall_score(Macro) : \", round(recall_score(y_test, y_pred_cat, average='macro')*100, 2), '%')\n",
    "print(\"Precision_Score(Macro) : \", round(precision_score(y_test, y_pred_cat, average='macro', zero_division=1)*100, 2), '%')"
   ]
  },
  {
   "cell_type": "markdown",
   "metadata": {},
   "source": [
    "### 7.3 Using Extreme Gradient Boosting Classifier"
   ]
  },
  {
   "cell_type": "code",
   "execution_count": 60,
   "metadata": {},
   "outputs": [
    {
     "name": "stdout",
     "output_type": "stream",
     "text": [
      "XGBoost Accuracy score :  98.97 %\n",
      "Recall_score(Macro) :  84.62 %\n",
      "Precision_Score(Macro) :  99.48 %\n"
     ]
    }
   ],
   "source": [
    "# classify using support vector classifier\n",
    "xg = xgb.XGBClassifier(max_depth=6,learning_rate=0.1)\n",
    "\n",
    "# fit the SVC model based on the given training data\n",
    "prob = xg.fit(x_train_ada, y_train_ada)\n",
    "\n",
    "# perform classification and prediction on samples in x_test\n",
    "y_pred_xgb = xg.predict(x_test)\n",
    "\n",
    "print(\"XGBoost Accuracy score : \", round(accuracy_score(y_test, y_pred_xgb)* 100, 2), '%')\n",
    "print(\"Recall_score(Macro) : \", round(recall_score(y_test, y_pred_xgb, average='macro')*100, 2), '%')\n",
    "print(\"Precision_Score(Macro) : \", round(precision_score(y_test, y_pred_xgb, average='macro', zero_division=1)*100, 2), '%')"
   ]
  },
  {
   "cell_type": "markdown",
   "metadata": {},
   "source": [
    "### 7.4 Using Decision Tree Classifier"
   ]
  },
  {
   "cell_type": "code",
   "execution_count": 61,
   "metadata": {},
   "outputs": [
    {
     "name": "stdout",
     "output_type": "stream",
     "text": [
      "DecisionTree Accuracy score :  76.03 %\n",
      "Recall_score(Macro) :  76.46 %\n",
      "Precision_Score(Macro) :  54.46 %\n"
     ]
    }
   ],
   "source": [
    "dtc = DecisionTreeClassifier(max_depth=10, random_state=42)\n",
    "\n",
    "# fit the DecisionTree model based on the given training data\n",
    "prob = dtc.fit(x_train_ada, y_train_ada)\n",
    "\n",
    "# perform classification and prediction on samples in x_test\n",
    "y_pred_dtc = dtc.predict(x_test)\n",
    "\n",
    "print(\"DecisionTree Accuracy score : \", round(accuracy_score(y_test, y_pred_dtc)* 100, 2), '%')\n",
    "print(\"Recall_score(Macro) : \", round(recall_score(y_test, y_pred_dtc, average='macro')*100, 2), '%')\n",
    "print(\"Precision_Score(Macro) : \", round(precision_score(y_test, y_pred_dtc, average='macro')*100, 2), '%')"
   ]
  },
  {
   "cell_type": "markdown",
   "metadata": {},
   "source": [
    "### 7.5 Using Random Forest Classifier"
   ]
  },
  {
   "cell_type": "code",
   "execution_count": 62,
   "metadata": {},
   "outputs": [
    {
     "name": "stdout",
     "output_type": "stream",
     "text": [
      "DecisionTree Accuracy score :  81.28 %\n",
      "Recall_score(Macro) :  73.61 %\n",
      "Precision_Score(Macro) :  54.8 %\n"
     ]
    }
   ],
   "source": [
    "rfc = RandomForestClassifier(max_depth=10, random_state=42)\n",
    "\n",
    "# fit the DecisionTree model based on the given training data\n",
    "prob = rfc.fit(x_train_ada, y_train_ada)\n",
    "\n",
    "# perform classification and prediction on samples in x_test\n",
    "y_pred_rfc = rfc.predict(x_test)\n",
    "\n",
    "print(\"DecisionTree Accuracy score : \", round(accuracy_score(y_test, y_pred_rfc)* 100, 2), '%')\n",
    "print(\"Recall_score(Macro) : \", round(recall_score(y_test, y_pred_rfc, average='macro')*100, 2), '%')\n",
    "print(\"Precision_Score(Macro) : \", round(precision_score(y_test, y_pred_rfc, average='macro')*100, 2), '%')"
   ]
  },
  {
   "cell_type": "markdown",
   "metadata": {},
   "source": [
    "<h1>__________________________________________________________</h1>\n",
    "\n",
    "## 8. Metrics Comparison & Generating Predictions\n",
    "\n",
    "As we can observe that, **XGBClassifier gives better Accuracy Score of `98.97%`, Recall Score(Macro) of `84.62` and Precison Score(Macro) of `99.48%`**.\n",
    "<br>\n",
    "Let's continue with generating our final predictions on the Test data using **XGBClassifier** itself."
   ]
  },
  {
   "cell_type": "code",
   "execution_count": 63,
   "metadata": {},
   "outputs": [],
   "source": [
    "# Make prediction on the test data using XGBClassifier\n",
    "final_pred = xg.predict(test_vec)"
   ]
  },
  {
   "cell_type": "code",
   "execution_count": 64,
   "metadata": {},
   "outputs": [],
   "source": [
    "# Saving the predictions as per the Id column in a new dataframe\n",
    "new_frame = pd.DataFrame()\n",
    "new_frame['category'] = final_pred"
   ]
  },
  {
   "cell_type": "code",
   "execution_count": 65,
   "metadata": {},
   "outputs": [],
   "source": [
    "# Exporting the predictions to a csv file\n",
    "new_frame.to_csv('output/submission_xgb.csv', header=True, index = False)"
   ]
  },
  {
   "cell_type": "code",
   "execution_count": null,
   "metadata": {},
   "outputs": [],
   "source": []
  }
 ],
 "metadata": {
  "kernelspec": {
   "display_name": "Python 3",
   "language": "python",
   "name": "python3"
  },
  "language_info": {
   "codemirror_mode": {
    "name": "ipython",
    "version": 3
   },
   "file_extension": ".py",
   "mimetype": "text/x-python",
   "name": "python",
   "nbconvert_exporter": "python",
   "pygments_lexer": "ipython3",
   "version": "3.8.3"
  }
 },
 "nbformat": 4,
 "nbformat_minor": 4
}
